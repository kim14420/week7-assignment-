{
  "nbformat": 4,
  "nbformat_minor": 0,
  "metadata": {
    "colab": {
      "provenance": [],
      "collapsed_sections": []
    },
    "kernelspec": {
      "name": "python3",
      "display_name": "Python 3"
    },
    "language_info": {
      "name": "python"
    }
  },
  "cells": [
    {
      "cell_type": "code",
      "source": [
        "def printPrg(*Prg):\n",
        "  for i in Prg:\n",
        "    print(i)\n",
        "\n",
        "\n",
        "printPrg(\"Java\",\"C\",\"Python\",\"R\",\"Web\")"
      ],
      "metadata": {
        "colab": {
          "base_uri": "https://localhost:8080/"
        },
        "id": "JVNdZDSnOpiO",
        "outputId": "b7ba23a2-f29e-40d1-bf61-fbc13a2ffa5a"
      },
      "execution_count": 18,
      "outputs": [
        {
          "output_type": "stream",
          "name": "stdout",
          "text": [
            "Java\n",
            "C\n",
            "Python\n",
            "R\n",
            "Web\n"
          ]
        }
      ]
    }
  ]
}